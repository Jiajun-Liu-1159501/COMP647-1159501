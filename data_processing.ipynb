{
 "cells": [
  {
   "cell_type": "code",
   "execution_count": 3,
   "id": "8a871d9f",
   "metadata": {},
   "outputs": [],
   "source": [
    "import pandas as pd # Data manipulation and analysis.\n",
    "import numpy as np # Numerical operations and array handling.\n",
    "import matplotlib.pyplot as plt # More control, lower-level, basic plotting.\n",
    "import seaborn as sns # Higher-level, more aesthetically pleasing plots.\n",
    "from scipy import stats # Statistical functions and tests.\n",
    "\n",
    "\n",
    "pd.set_option('display.max_columns', None) # Display all columns in DataFrame output.\n",
    "pd.set_option('display.max_rows', None) # Display all rows in DataFrame output."
   ]
  },
  {
   "cell_type": "markdown",
   "id": "0bc42e51",
   "metadata": {},
   "source": [
    "### 1. Load all CSV data"
   ]
  },
  {
   "cell_type": "code",
   "execution_count": 4,
   "id": "ad766de4",
   "metadata": {},
   "outputs": [
    {
     "name": "stdout",
     "output_type": "stream",
     "text": [
      "<class 'pandas.core.frame.DataFrame'>\n",
      "RangeIndex: 5000000 entries, 0 to 4999999\n",
      "Data columns (total 17 columns):\n",
      " #   Column                       Dtype  \n",
      "---  ------                       -----  \n",
      " 0   transaction_id               object \n",
      " 1   timestamp                    object \n",
      " 2   sender_account               object \n",
      " 3   receiver_account             object \n",
      " 4   amount                       float64\n",
      " 5   transaction_type             object \n",
      " 6   merchant_category            object \n",
      " 7   location                     object \n",
      " 8   device_used                  object \n",
      " 9   is_fraud                     bool   \n",
      " 10  time_since_last_transaction  float64\n",
      " 11  spending_deviation_score     float64\n",
      " 12  velocity_score               int64  \n",
      " 13  geo_anomaly_score            float64\n",
      " 14  payment_channel              object \n",
      " 15  ip_address                   object \n",
      " 16  device_hash                  object \n",
      "dtypes: bool(1), float64(4), int64(1), object(11)\n",
      "memory usage: 615.1+ MB\n"
     ]
    }
   ],
   "source": [
    "df = pd.read_csv('C:\\\\Users\\\\liuj4o\\\\Downloads\\\\financial_fraud_detection_dataset.csv')\n",
    "df = df.drop('fraud_type', axis = 1)\n",
    "df.info()"
   ]
  },
  {
   "cell_type": "markdown",
   "id": "79541a44",
   "metadata": {},
   "source": [
    "### 2. Find and remove all rows contains Null value"
   ]
  },
  {
   "cell_type": "code",
   "execution_count": null,
   "id": "d548b964",
   "metadata": {},
   "outputs": [
    {
     "name": "stdout",
     "output_type": "stream",
     "text": [
      "transaction_id                      0\n",
      "timestamp                           0\n",
      "sender_account                      0\n",
      "receiver_account                    0\n",
      "amount                              0\n",
      "transaction_type                    0\n",
      "merchant_category                   0\n",
      "location                            0\n",
      "device_used                         0\n",
      "is_fraud                            0\n",
      "time_since_last_transaction    896513\n",
      "spending_deviation_score            0\n",
      "velocity_score                      0\n",
      "geo_anomaly_score                   0\n",
      "payment_channel                     0\n",
      "ip_address                          0\n",
      "device_hash                         0\n",
      "dtype: int64\n"
     ]
    }
   ],
   "source": [
    "missing_values = df.isnull().sum()\n",
    "print(missing_values)\n",
    "if missing_values.sum() > 0:\n",
    "    df = df.dropna(subset=[c for c in df.columns if c != 'time_since_last_transaction'])"
   ]
  },
  {
   "cell_type": "markdown",
   "id": "fd3d3c58",
   "metadata": {},
   "source": [
    "### 3.Remove Duplicates and Constant"
   ]
  },
  {
   "cell_type": "code",
   "execution_count": 11,
   "id": "08e5e79c",
   "metadata": {},
   "outputs": [
    {
     "name": "stdout",
     "output_type": "stream",
     "text": [
      "0\n"
     ]
    }
   ],
   "source": [
    "duplicated_values = df.duplicated().sum()\n",
    "print(duplicated_values)\n",
    "if (duplicated_values > 0):\n",
    "    df = df.drop_duplicates()"
   ]
  },
  {
   "cell_type": "code",
   "execution_count": null,
   "id": "64ac76e8",
   "metadata": {},
   "outputs": [
    {
     "name": "stdout",
     "output_type": "stream",
     "text": [
      "Constant features: []\n"
     ]
    }
   ],
   "source": [
    "constant_features = [col for col in df.columns if df[col].nunique() == 1]\n",
    "print(\"Constant features:\", constant_features)\n",
    "if len(constant_features) > 1:\n",
    "    df = df.drop(columns = constant_features)"
   ]
  },
  {
   "cell_type": "code",
   "execution_count": null,
   "id": "f531882b",
   "metadata": {},
   "outputs": [
    {
     "name": "stdout",
     "output_type": "stream",
     "text": [
      "\n",
      "is_fraud unique values: [False  True]\n",
      "is_fraud data type: bool\n"
     ]
    }
   ],
   "source": [
    "print(f\"\\nis_fraud unique values: {df['is_fraud'].unique()}\")\n",
    "print(f\"is_fraud data type: {df['is_fraud'].dtype}\")"
   ]
  },
  {
   "cell_type": "code",
   "execution_count": 19,
   "id": "beb18e63",
   "metadata": {},
   "outputs": [
    {
     "name": "stdout",
     "output_type": "stream",
     "text": [
      "\n",
      "Numeric columns verification:\n",
      "amount: float64 - Can convert to numeric: True\n",
      "spending_deviation_score: float64 - Can convert to numeric: True\n",
      "velocity_score: int64 - Can convert to numeric: True\n",
      "geo_anomaly_score: float64 - Can convert to numeric: True\n"
     ]
    }
   ],
   "source": [
    "numeric_columns = ['amount', 'spending_deviation_score', 'velocity_score', 'geo_anomaly_score']\n",
    "print(\"\\nNumeric columns verification:\")\n",
    "for col in numeric_columns:\n",
    "    if col in df.columns:\n",
    "        print(f\"{col}: {df[col].dtype} - Can convert to numeric: {pd.to_numeric(df[col], errors='coerce').notna().all()}\")"
   ]
  },
  {
   "cell_type": "code",
   "execution_count": null,
   "id": "2c6e0984",
   "metadata": {},
   "outputs": [
    {
     "name": "stdout",
     "output_type": "stream",
     "text": [
      "fraud rate in example data: 3.5911%\n"
     ]
    }
   ],
   "source": [
    "print(f\"fraud rate in example data: {df['is_fraud'].mean():.4%}\")"
   ]
  }
 ],
 "metadata": {
  "kernelspec": {
   "display_name": "base",
   "language": "python",
   "name": "python3"
  },
  "language_info": {
   "codemirror_mode": {
    "name": "ipython",
    "version": 3
   },
   "file_extension": ".py",
   "mimetype": "text/x-python",
   "name": "python",
   "nbconvert_exporter": "python",
   "pygments_lexer": "ipython3",
   "version": "3.13.5"
  }
 },
 "nbformat": 4,
 "nbformat_minor": 5
}
